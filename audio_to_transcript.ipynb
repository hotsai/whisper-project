{
  "cells": [
    {
      "cell_type": "code",
      "execution_count": null,
      "metadata": {
        "id": "n3NWHs6k6jg3"
      },
      "outputs": [],
      "source": [
        "# Install required packages\n",
        "!pip install -q -U openai-whisper\n",
        "!pip install -q --force-reinstall https://github.com/yt-dlp/yt-dlp/archive/master.tar.gz\n",
        "!pip install python-docx\n",
        "\n",
        "# Import necessary libraries\n",
        "import whisper\n",
        "import torch\n",
        "import yt_dlp as youtube_dl\n",
        "from pathlib import Path\n",
        "from whisper.utils import get_writer\n",
        "from docx import Document\n",
        "from google.colab import drive\n",
        "drive.mount('/content/gdrive')\n",
        "\n",
        "# Global Variables\n",
        "Model_Type = \"large\"\n",
        "input_directory = \"/content/gdrive/My Drive/Upload/\"\n",
        "output_directory = \"/content/gdrive/My Drive/Output/\"\n",
        "DEVICE = \"cuda\" if torch.cuda.is_available() else \"cpu\"\n",
        "\n",
        "def process_input(input_data):\n",
        "    if input_data.startswith(\"https://www.youtube.com/\"):\n",
        "        # Process YouTube URL\n",
        "        ydl_opts = {\n",
        "            'format': 'bestaudio/best',\n",
        "            'postprocessors': [{\n",
        "                'key': 'FFmpegExtractAudio',\n",
        "                'preferredcodec': 'mp3',\n",
        "                'preferredquality': '192',\n",
        "            }],\n",
        "            'outtmpl': '%(title)s.%(ext)s'\n",
        "        }\n",
        "\n",
        "        with youtube_dl.YoutubeDL(ydl_opts) as ydl:\n",
        "            info_dict = ydl.extract_info(input_data, download=False)\n",
        "            ydl.download([input_data])\n",
        "\n",
        "        data_file = info_dict['title'] + '.mp3'\n",
        "    else:\n",
        "        # Process audio file\n",
        "        data_file = input_directory + input_data\n",
        "\n",
        "    return data_file\n",
        "\n",
        "def transcribe_and_save(data_file):\n",
        "    # Transcribe audio and get the result\n",
        "    model = whisper.load_model(Model_Type, device=DEVICE)\n",
        "    result = model.transcribe(data_file, language='zh')\n",
        "\n",
        "    # Save Word document\n",
        "    text_file_name = Path(data_file).stem\n",
        "    doc = Document()\n",
        "    doc.add_heading(text_file_name, 0)\n",
        "    doc.add_paragraph(result[\"text\"])\n",
        "    doc_filename = f\"{text_file_name}.docx\"\n",
        "    doc.save(Path(output_directory) / doc_filename)\n",
        "\n",
        "# Input file name or youtube link\n",
        "user_input = input(\"Enter YouTube URL or file name: \")\n",
        "processed_file = process_input(user_input)\n",
        "transcribe_and_save(processed_file)"
      ]
    }
  ],
  "metadata": {
    "accelerator": "GPU",
    "colab": {
      "provenance": []
    },
    "gpuClass": "standard",
    "kernelspec": {
      "display_name": "Python 3",
      "name": "python3"
    },
    "language_info": {
      "name": "python"
    }
  },
  "nbformat": 4,
  "nbformat_minor": 0
}